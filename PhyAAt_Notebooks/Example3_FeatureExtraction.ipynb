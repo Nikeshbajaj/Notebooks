{
 "cells": [
  {
   "cell_type": "markdown",
   "metadata": {},
   "source": [
    "<span style=\"color:green;float:right\">https://phyaat.github.io</span>"
   ]
  },
  {
   "cell_type": "markdown",
   "metadata": {},
   "source": [
    "# Tuning the Feature Extraction process\n",
    "\n",
    "In this notebook, we explain how to extract features segment-wise and window-wise (check the paper for theoretical details). We would also explain the possible parameters to tune the feature extraction process."
   ]
  },
  {
   "cell_type": "markdown",
   "metadata": {
    "toc": true
   },
   "source": [
    "<h1>Table of Contents<span class=\"tocSkip\"></span></h1>\n",
    "<div class=\"toc\"><ul class=\"toc-item\"><li><span><a href=\"#Read-the-data-of-subject=1\" data-toc-modified-id=\"Read-the-data-of-subject=1-1\"><span class=\"toc-item-num\">1&nbsp;&nbsp;</span>Read the data of subject=1</a></span></li><li><span><a href=\"#Filtering\" data-toc-modified-id=\"Filtering-2\"><span class=\"toc-item-num\">2&nbsp;&nbsp;</span>Filtering</a></span></li><li><span><a href=\"#Artifact-removal-using-ICA\" data-toc-modified-id=\"Artifact-removal-using-ICA-3\"><span class=\"toc-item-num\">3&nbsp;&nbsp;</span>Artifact removal using ICA</a></span></li><li><span><a href=\"#T4:-LWR-Classification\" data-toc-modified-id=\"T4:-LWR-Classification-4\"><span class=\"toc-item-num\">4&nbsp;&nbsp;</span>T4: LWR Classification</a></span><ul class=\"toc-item\"><li><span><a href=\"#Segment-wise-feature-extraction\" data-toc-modified-id=\"Segment-wise-feature-extraction-4.1\"><span class=\"toc-item-num\">4.1&nbsp;&nbsp;</span>Segment-wise feature extraction</a></span></li><li><span><a href=\"#Window-wise-Feature-Extraction-(2sec-window)\" data-toc-modified-id=\"Window-wise-Feature-Extraction-(2sec-window)-4.2\"><span class=\"toc-item-num\">4.2&nbsp;&nbsp;</span>Window-wise Feature Extraction (2sec window)</a></span><ul class=\"toc-item\"><li><span><a href=\"#Notice-the-number-of-exmaples-(Shape-of-X,-y)\" data-toc-modified-id=\"Notice-the-number-of-exmaples-(Shape-of-X,-y)-4.2.1\"><span class=\"toc-item-num\">4.2.1&nbsp;&nbsp;</span>Notice the number of exmaples (Shape of X, y)</a></span></li></ul></li></ul></li><li><span><a href=\"#Tuning-Feature-Extraction-process\" data-toc-modified-id=\"Tuning-Feature-Extraction-process-5\"><span class=\"toc-item-num\">5&nbsp;&nbsp;</span>Tuning Feature Extraction process</a></span></li></ul></div>"
   ]
  },
  {
   "cell_type": "code",
   "execution_count": 7,
   "metadata": {
    "ExecuteTime": {
     "end_time": "2020-05-23T23:11:02.640678Z",
     "start_time": "2020-05-23T23:11:02.635692Z"
    }
   },
   "outputs": [],
   "source": [
    "import numpy as np\n",
    "import pandas as pd\n",
    "import matplotlib.pyplot as plt\n",
    "from sklearn import svm"
   ]
  },
  {
   "cell_type": "code",
   "execution_count": 2,
   "metadata": {
    "ExecuteTime": {
     "end_time": "2020-05-23T23:05:21.418881Z",
     "start_time": "2020-05-23T23:05:21.014393Z"
    }
   },
   "outputs": [
    {
     "name": "stdout",
     "output_type": "stream",
     "text": [
      "PhyAAt Processing lib Loaded...\n",
      "Version : 0.0.2\n"
     ]
    }
   ],
   "source": [
    "import phyaat\n",
    "print('Version :' ,phyaat.__version__)\n",
    "import phyaat as ph"
   ]
  },
  {
   "cell_type": "markdown",
   "metadata": {},
   "source": [
    "## Read the data of subject=1"
   ]
  },
  {
   "cell_type": "code",
   "execution_count": 3,
   "metadata": {
    "ExecuteTime": {
     "end_time": "2020-05-23T23:06:57.409193Z",
     "start_time": "2020-05-23T23:06:56.652219Z"
    }
   },
   "outputs": [
    {
     "name": "stdout",
     "output_type": "stream",
     "text": [
      "Total Subjects :  1\n"
     ]
    }
   ],
   "source": [
    "dirPath = ph.download_data(baseDir='../PhyAAt_Data', subject=1,verbose=0,overwrite=False)\n",
    "\n",
    "baseDir='../PhyAAt_Data'\n",
    "\n",
    "SubID = ph.ReadFilesPath(baseDir)\n",
    "\n",
    "Subj = ph.Subject(SubID[1])"
   ]
  },
  {
   "cell_type": "markdown",
   "metadata": {},
   "source": [
    "## Filtering \n",
    "**With Custum frequency range**"
   ]
  },
  {
   "cell_type": "code",
   "execution_count": 5,
   "metadata": {
    "ExecuteTime": {
     "end_time": "2020-05-23T23:07:16.141003Z",
     "start_time": "2020-05-23T23:07:13.823203Z"
    }
   },
   "outputs": [],
   "source": [
    "Subj.filter_EEG(band =[0.5],btype='highpass',order=5)"
   ]
  },
  {
   "cell_type": "markdown",
   "metadata": {},
   "source": [
    "## Artifact removal using ICA\n",
    "**Tune threshold, windowsize, ICA method**"
   ]
  },
  {
   "cell_type": "code",
   "execution_count": 6,
   "metadata": {
    "ExecuteTime": {
     "end_time": "2020-05-23T23:11:02.617738Z",
     "start_time": "2020-05-23T23:07:51.040164Z"
    }
   },
   "outputs": [
    {
     "name": "stdout",
     "output_type": "stream",
     "text": [
      "ICA Artifact Removal : extended-infomax\n",
      "100%|####################################################################################################|\n"
     ]
    }
   ],
   "source": [
    "KurThr = 2\n",
    "Corr   = 0.8\n",
    "ICAMed = 'extended-infomax' #picard, fastICA\n",
    "winsize=128*10 # 20sec\n",
    "\n",
    "Subj.correct(method='ICA',winsize=winsize,hopesize=None,Corr=Corr,KurThr=KurThr,ICAMed=ICAMed,verbose=1,\n",
    "             window=['hamming',True],winMeth='custom')"
   ]
  },
  {
   "cell_type": "markdown",
   "metadata": {},
   "source": [
    "## T4: LWR Classification "
   ]
  },
  {
   "cell_type": "markdown",
   "metadata": {},
   "source": [
    "### Segment-wise feature extraction"
   ]
  },
  {
   "cell_type": "code",
   "execution_count": 8,
   "metadata": {
    "ExecuteTime": {
     "end_time": "2020-05-23T23:12:48.889908Z",
     "start_time": "2020-05-23T23:11:37.049976Z"
    }
   },
   "outputs": [
    {
     "name": "stdout",
     "output_type": "stream",
     "text": [
      "100%|##################################################|100\\100|Sg - 0\n",
      "Done..\n",
      "100%|##################################################|100\\100|Sg - 1\n",
      "Done..\n",
      "100%|##################################################|100\\100|Sg - 2\n",
      "Done..\n",
      "100%|##################################################|43\\43|Sg - 0\n",
      "Done..\n",
      "100%|##################################################|43\\43|Sg - 1\n",
      "Done..\n",
      "100%|##################################################|43\\43|Sg - 2\n",
      "Done..\n"
     ]
    }
   ],
   "source": [
    "X_train,y_train,X_test, y_test = Subj.getXy_eeg(task=4,features='rhythmic',verbose=1,\n",
    "                                  redo=False, winsize=-1,hopesize=None)"
   ]
  },
  {
   "cell_type": "code",
   "execution_count": 9,
   "metadata": {
    "ExecuteTime": {
     "end_time": "2020-05-23T23:12:53.660284Z",
     "start_time": "2020-05-23T23:12:53.655298Z"
    }
   },
   "outputs": [
    {
     "name": "stdout",
     "output_type": "stream",
     "text": [
      "DataShape:  (290, 84) (290,) (120, 84) (120,)\n",
      "\n",
      "Class labels : [0 1 2]\n"
     ]
    }
   ],
   "source": [
    "print('DataShape: ',X_train.shape,y_train.shape,X_test.shape, y_test.shape)\n",
    "print('\\nClass labels :',np.unique(y_train))"
   ]
  },
  {
   "cell_type": "code",
   "execution_count": 10,
   "metadata": {
    "ExecuteTime": {
     "end_time": "2020-05-23T23:12:57.418200Z",
     "start_time": "2020-05-23T23:12:57.394274Z"
    }
   },
   "outputs": [
    {
     "name": "stdout",
     "output_type": "stream",
     "text": [
      "Training Accuracy: 0.9448275862068966\n",
      "Testing  Accuracy: 0.85\n"
     ]
    }
   ],
   "source": [
    "# Normalization - SVM works well with normalized features\n",
    "means = X_train.mean(0)\n",
    "std   = X_train.std(0)\n",
    "X_train = (X_train-means)/std\n",
    "X_test  = (X_test-means)/std\n",
    "\n",
    "\n",
    "# Training\n",
    "clf = svm.SVC(kernel='rbf', C=1,gamma='auto')\n",
    "clf.fit(X_train,y_train)\n",
    "\n",
    "# Predition\n",
    "ytp = clf.predict(X_train)\n",
    "ysp = clf.predict(X_test)\n",
    "\n",
    "# Evaluation\n",
    "print('Training Accuracy:',np.mean(y_train==ytp))\n",
    "print('Testing  Accuracy:',np.mean(y_test==ysp))"
   ]
  },
  {
   "cell_type": "markdown",
   "metadata": {},
   "source": [
    "### Window-wise Feature Extraction (2sec window)"
   ]
  },
  {
   "cell_type": "code",
   "execution_count": 11,
   "metadata": {
    "ExecuteTime": {
     "end_time": "2020-05-23T23:19:18.636257Z",
     "start_time": "2020-05-23T23:14:02.106164Z"
    }
   },
   "outputs": [
    {
     "name": "stdout",
     "output_type": "stream",
     "text": [
      "100%|##################################################|100\\100|Sg - 0\n",
      "Done..\n",
      "100%|##################################################|100\\100|Sg - 1\n",
      "Done..\n",
      "100%|##################################################|100\\100|Sg - 2\n",
      "Done..\n",
      "100%|##################################################|43\\43|Sg - 0\n",
      "Done..\n",
      "100%|##################################################|43\\43|Sg - 1\n",
      "Done..\n",
      "100%|##################################################|43\\43|Sg - 2\n",
      "Done..\n"
     ]
    }
   ],
   "source": [
    "X_train,y_train,X_test, y_test = Subj.getXy_eeg(task=4,features='rhythmic',verbose=1,\n",
    "                                  redo=True, winsize=128*2)"
   ]
  },
  {
   "cell_type": "markdown",
   "metadata": {},
   "source": [
    "#### Notice the number of exmaples (Shape of X, y)"
   ]
  },
  {
   "cell_type": "code",
   "execution_count": 12,
   "metadata": {
    "ExecuteTime": {
     "end_time": "2020-05-23T23:19:37.323841Z",
     "start_time": "2020-05-23T23:19:37.319852Z"
    }
   },
   "outputs": [
    {
     "name": "stdout",
     "output_type": "stream",
     "text": [
      "DataShape:  (1382, 84) (1382,) (565, 84) (565,)\n",
      "\n",
      "Class labels : [0 1 2]\n"
     ]
    }
   ],
   "source": [
    "print('DataShape: ',X_train.shape,y_train.shape,X_test.shape, y_test.shape)\n",
    "print('\\nClass labels :',np.unique(y_train))"
   ]
  },
  {
   "cell_type": "code",
   "execution_count": 13,
   "metadata": {
    "ExecuteTime": {
     "end_time": "2020-05-23T23:19:42.855770Z",
     "start_time": "2020-05-23T23:19:42.616412Z"
    }
   },
   "outputs": [
    {
     "name": "stdout",
     "output_type": "stream",
     "text": [
      "Training Accuracy: 0.9261939218523878\n",
      "Testing  Accuracy: 0.8407079646017699\n"
     ]
    }
   ],
   "source": [
    "# Normalization - SVM works well with normalized features\n",
    "means = X_train.mean(0)\n",
    "std   = X_train.std(0)\n",
    "X_train = (X_train-means)/std\n",
    "X_test  = (X_test-means)/std\n",
    "\n",
    "\n",
    "# Training\n",
    "clf = svm.SVC(kernel='rbf', C=1,gamma='auto')\n",
    "clf.fit(X_train,y_train)\n",
    "\n",
    "# Predition\n",
    "ytp = clf.predict(X_train)\n",
    "ysp = clf.predict(X_test)\n",
    "\n",
    "# Evaluation\n",
    "print('Training Accuracy:',np.mean(y_train==ytp))\n",
    "print('Testing  Accuracy:',np.mean(y_test==ysp))"
   ]
  },
  {
   "cell_type": "markdown",
   "metadata": {},
   "source": [
    "## Tuning Feature Extraction process"
   ]
  },
  {
   "cell_type": "code",
   "execution_count": null,
   "metadata": {},
   "outputs": [],
   "source": [
    "# Subj = ph.Subject(SubID[1])\n",
    "# Subj.filter_EEG(band =[0.5],btype='highpass',order=5)\n",
    "# KurThr = 2\n",
    "# Corr   = 0.8\n",
    "# ICAMed = 'extended-infomax' #picard, fastICA\n",
    "# winsize=128*10 # 20sec\n",
    "\n",
    "# Subj.correct(method='ICA',winsize=winsize,hopesize=None,Corr=Corr,KurThr=KurThr,ICAMed=ICAMed,verbose=1)"
   ]
  },
  {
   "cell_type": "code",
   "execution_count": null,
   "metadata": {},
   "outputs": [],
   "source": [
    "#check help to see the options\n",
    "help(ph.Subject.getXy_eeg)"
   ]
  },
  {
   "cell_type": "code",
   "execution_count": null,
   "metadata": {},
   "outputs": [],
   "source": [
    "\n",
    "X_train,y_train,X_test, y_test = Subj.getXy_eeg(task=4,features='rhythmic',verbose=1,\n",
    "                                    redo=False,\n",
    "                                    split='serial', splitAt=100,\n",
    "                                    normalize=False,log10p1=True,flat=True,\n",
    "                                    filter_order=5,method='welch',\n",
    "                                    window='hann', scaling='density',\n",
    "                                    detrend='constant',period_average='mean',\n",
    "                                    winsize=-1,hopesize=None)"
   ]
  }
 ],
 "metadata": {
  "kernelspec": {
   "display_name": "Python 3",
   "language": "python",
   "name": "python3"
  },
  "language_info": {
   "codemirror_mode": {
    "name": "ipython",
    "version": 3
   },
   "file_extension": ".py",
   "mimetype": "text/x-python",
   "name": "python",
   "nbconvert_exporter": "python",
   "pygments_lexer": "ipython3",
   "version": "3.7.4"
  },
  "latex_envs": {
   "LaTeX_envs_menu_present": true,
   "autoclose": false,
   "autocomplete": true,
   "bibliofile": "biblio.bib",
   "cite_by": "apalike",
   "current_citInitial": 1,
   "eqLabelWithNumbers": true,
   "eqNumInitial": 1,
   "hotkeys": {
    "equation": "Ctrl-E",
    "itemize": "Ctrl-I"
   },
   "labels_anchors": false,
   "latex_user_defs": false,
   "report_style_numbering": false,
   "user_envs_cfg": false
  },
  "toc": {
   "base_numbering": 1,
   "nav_menu": {},
   "number_sections": true,
   "sideBar": true,
   "skip_h1_title": true,
   "title_cell": "Table of Contents",
   "title_sidebar": "Contents",
   "toc_cell": true,
   "toc_position": {},
   "toc_section_display": true,
   "toc_window_display": true
  },
  "varInspector": {
   "cols": {
    "lenName": 16,
    "lenType": 16,
    "lenVar": 40
   },
   "kernels_config": {
    "python": {
     "delete_cmd_postfix": "",
     "delete_cmd_prefix": "del ",
     "library": "var_list.py",
     "varRefreshCmd": "print(var_dic_list())"
    },
    "r": {
     "delete_cmd_postfix": ") ",
     "delete_cmd_prefix": "rm(",
     "library": "var_list.r",
     "varRefreshCmd": "cat(var_dic_list()) "
    }
   },
   "types_to_exclude": [
    "module",
    "function",
    "builtin_function_or_method",
    "instance",
    "_Feature"
   ],
   "window_display": false
  }
 },
 "nbformat": 4,
 "nbformat_minor": 2
}
