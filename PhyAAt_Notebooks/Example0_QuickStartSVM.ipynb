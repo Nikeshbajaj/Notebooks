{
 "cells": [
  {
   "cell_type": "markdown",
   "metadata": {},
   "source": [
    "# A Quick Start with SVM : LWR Classification"
   ]
  },
  {
   "cell_type": "code",
   "execution_count": 1,
   "metadata": {
    "ExecuteTime": {
     "end_time": "2020-05-24T00:13:00.861220Z",
     "start_time": "2020-05-24T00:11:52.352327Z"
    }
   },
   "outputs": [
    {
     "name": "stdout",
     "output_type": "stream",
     "text": [
      "PhyAAt Processing lib Loaded...\n",
      "Version : 0.0.2\n",
      "Total Subjects :  1\n",
      "{'sigFile': '../PhyAAt_Data/phyaat_dataset/Signals/S1/S1_Signals.csv', 'txtFile': '../PhyAAt_Data/phyaat_dataset/Signals/S1/S1_Textscore.csv'}\n",
      "100%|##################################################|100\\100|Sg - 0\n",
      "Done..\n",
      "100%|##################################################|100\\100|Sg - 1\n",
      "Done..\n",
      "100%|##################################################|100\\100|Sg - 2\n",
      "Done..\n",
      "100%|##################################################|43\\43|Sg - 0\n",
      "Done..\n",
      "100%|##################################################|43\\43|Sg - 1\n",
      "Done..\n",
      "100%|##################################################|43\\43|Sg - 2\n",
      "Done..\n",
      "DataShape:  (290, 84) (290,) (120, 84) (120,)\n",
      "\n",
      "Class labels : [0 1 2]\n",
      "Training Accuracy: 0.9310344827586207\n",
      "Testing  Accuracy: 0.8666666666666667\n"
     ]
    }
   ],
   "source": [
    "import numpy as np\n",
    "import pandas as pd\n",
    "import matplotlib.pyplot as plt\n",
    "from sklearn import svm\n",
    "\n",
    "#!pip install phyaat  # if not installed yet\n",
    "import phyaat\n",
    "print('Version :' ,phyaat.__version__)\n",
    "import phyaat as ph\n",
    "\n",
    "# Download dataset of one subject only (subject=1)\n",
    "# To download data of all the subjects use subject =-1 or for specify for one e.g.subject=10\n",
    "\n",
    "dirPath = ph.download_data(baseDir='../PhyAAt_Data', subject=1,verbose=0,overwrite=False)\n",
    "\n",
    "baseDir='../PhyAAt_Data'   # or dirPath return path from above\n",
    "\n",
    "#returns a dictionary containing file names of all the subjects available in baseDir\n",
    "SubID = ph.ReadFilesPath(baseDir)\n",
    "\n",
    "#check files of subject=1\n",
    "print(SubID[1])\n",
    "\n",
    " # Create a Subj holding dataset of subject=1\n",
    "Subj = ph.Subject(SubID[1])\n",
    "\n",
    "\n",
    "#filtering with highpass filter of cutoff frequency 0.5Hz\n",
    "Subj.filter_EEG(band =[0.5],btype='highpass',order=5)\n",
    "\n",
    "\n",
    "# Extract Rhythmic features for task=4\n",
    "X_train,y_train,X_test, y_test = Subj.getXy_eeg(task=4)\n",
    "\n",
    "\n",
    "print('DataShape: ',X_train.shape,y_train.shape,X_test.shape, y_test.shape)\n",
    "print('\\nClass labels :',np.unique(y_train))\n",
    "\n",
    "# Normalization - SVM works well with normalized features\n",
    "means = X_train.mean(0)\n",
    "std   = X_train.std(0)\n",
    "X_train = (X_train-means)/std\n",
    "X_test  = (X_test-means)/std\n",
    "\n",
    "\n",
    "# Training\n",
    "clf = svm.SVC(kernel='rbf', C=1,gamma='auto')\n",
    "clf.fit(X_train,y_train)\n",
    "\n",
    "# Predition\n",
    "ytp = clf.predict(X_train)\n",
    "ysp = clf.predict(X_test)\n",
    "\n",
    "# Evaluation\n",
    "\n",
    "print('Training Accuracy:',np.mean(y_train==ytp))\n",
    "print('Testing  Accuracy:',np.mean(y_test==ysp))"
   ]
  },
  {
   "cell_type": "code",
   "execution_count": null,
   "metadata": {},
   "outputs": [],
   "source": []
  }
 ],
 "metadata": {
  "kernelspec": {
   "display_name": "Python 3",
   "language": "python",
   "name": "python3"
  },
  "language_info": {
   "codemirror_mode": {
    "name": "ipython",
    "version": 3
   },
   "file_extension": ".py",
   "mimetype": "text/x-python",
   "name": "python",
   "nbconvert_exporter": "python",
   "pygments_lexer": "ipython3",
   "version": "3.7.4"
  },
  "latex_envs": {
   "LaTeX_envs_menu_present": true,
   "autoclose": false,
   "autocomplete": true,
   "bibliofile": "biblio.bib",
   "cite_by": "apalike",
   "current_citInitial": 1,
   "eqLabelWithNumbers": true,
   "eqNumInitial": 1,
   "hotkeys": {
    "equation": "Ctrl-E",
    "itemize": "Ctrl-I"
   },
   "labels_anchors": false,
   "latex_user_defs": false,
   "report_style_numbering": false,
   "user_envs_cfg": false
  },
  "toc": {
   "base_numbering": 1,
   "nav_menu": {},
   "number_sections": true,
   "sideBar": true,
   "skip_h1_title": false,
   "title_cell": "Table of Contents",
   "title_sidebar": "Contents",
   "toc_cell": false,
   "toc_position": {},
   "toc_section_display": true,
   "toc_window_display": false
  },
  "varInspector": {
   "cols": {
    "lenName": 16,
    "lenType": 16,
    "lenVar": 40
   },
   "kernels_config": {
    "python": {
     "delete_cmd_postfix": "",
     "delete_cmd_prefix": "del ",
     "library": "var_list.py",
     "varRefreshCmd": "print(var_dic_list())"
    },
    "r": {
     "delete_cmd_postfix": ") ",
     "delete_cmd_prefix": "rm(",
     "library": "var_list.r",
     "varRefreshCmd": "cat(var_dic_list()) "
    }
   },
   "types_to_exclude": [
    "module",
    "function",
    "builtin_function_or_method",
    "instance",
    "_Feature"
   ],
   "window_display": false
  }
 },
 "nbformat": 4,
 "nbformat_minor": 2
}
