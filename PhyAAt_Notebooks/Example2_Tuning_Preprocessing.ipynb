{
 "cells": [
  {
   "cell_type": "markdown",
   "metadata": {},
   "source": [
    "<span style=\"color:green;float:right\">https://phyaat.github.io</span>"
   ]
  },
  {
   "cell_type": "markdown",
   "metadata": {},
   "source": [
    "# Tuning the preprocessing\n",
    "\n",
    "In this notebook, we explain how to tune the preprocessing steps with available options in phyaat library.\n",
    "Basically two preprocessing steps are provided, filtering and artifact removal. For filtering, conventional way is to filter EEG with highpass filter (0.5 Hz), however you could choose any range. Second Artifact Removal, currently onle one method of artifact removal is implemented in phyaat, feel free to choose external libraries such as mne. The ICA based approach has a few hyperparameters, such as method to compute IC components, windowsize to process, threshold of kurtosis and correlation coefficient. We will see how to do that."
   ]
  },
  {
   "cell_type": "markdown",
   "metadata": {
    "toc": true
   },
   "source": [
    "<h1>Table of Contents<span class=\"tocSkip\"></span></h1>\n",
    "<div class=\"toc\"><ul class=\"toc-item\"><li><span><a href=\"#Read-the-data-of-subject=1\" data-toc-modified-id=\"Read-the-data-of-subject=1-1\"><span class=\"toc-item-num\">1&nbsp;&nbsp;</span>Read the data of subject=1</a></span></li><li><span><a href=\"#Filtering\" data-toc-modified-id=\"Filtering-2\"><span class=\"toc-item-num\">2&nbsp;&nbsp;</span>Filtering</a></span></li><li><span><a href=\"#Artifact-removal-using-ICA\" data-toc-modified-id=\"Artifact-removal-using-ICA-3\"><span class=\"toc-item-num\">3&nbsp;&nbsp;</span>Artifact removal using ICA</a></span></li><li><span><a href=\"#T3:-Semanticity-Classification\" data-toc-modified-id=\"T3:-Semanticity-Classification-4\"><span class=\"toc-item-num\">4&nbsp;&nbsp;</span>T3: Semanticity Classification</a></span></li></ul></div>"
   ]
  },
  {
   "cell_type": "code",
   "execution_count": 1,
   "metadata": {
    "ExecuteTime": {
     "end_time": "2020-05-23T22:54:48.174418Z",
     "start_time": "2020-05-23T22:54:45.435002Z"
    }
   },
   "outputs": [],
   "source": [
    "import numpy as np\n",
    "import pandas as pd\n",
    "import matplotlib.pyplot as plt\n",
    "from sklearn import svm"
   ]
  },
  {
   "cell_type": "code",
   "execution_count": 2,
   "metadata": {
    "ExecuteTime": {
     "end_time": "2020-05-23T22:54:49.263051Z",
     "start_time": "2020-05-23T22:54:48.197318Z"
    }
   },
   "outputs": [
    {
     "name": "stdout",
     "output_type": "stream",
     "text": [
      "PhyAAt Processing lib Loaded...\n",
      "Version : 0.0.2\n"
     ]
    }
   ],
   "source": [
    "import phyaat\n",
    "print('Version :' ,phyaat.__version__)\n",
    "import phyaat as ph"
   ]
  },
  {
   "cell_type": "code",
   "execution_count": 3,
   "metadata": {
    "ExecuteTime": {
     "end_time": "2020-05-23T22:54:50.305618Z",
     "start_time": "2020-05-23T22:54:50.300631Z"
    }
   },
   "outputs": [],
   "source": []
  },
  {
   "cell_type": "code",
   "execution_count": 4,
   "metadata": {
    "ExecuteTime": {
     "end_time": "2020-05-23T22:54:53.101066Z",
     "start_time": "2020-05-23T22:54:53.097077Z"
    }
   },
   "outputs": [],
   "source": [
    "#help(ph.Subject.getXy_eeg)"
   ]
  },
  {
   "cell_type": "markdown",
   "metadata": {},
   "source": [
    "## Read the data of subject=1"
   ]
  },
  {
   "cell_type": "code",
   "execution_count": 6,
   "metadata": {
    "ExecuteTime": {
     "end_time": "2020-05-23T22:56:10.240854Z",
     "start_time": "2020-05-23T22:56:09.470890Z"
    }
   },
   "outputs": [
    {
     "name": "stdout",
     "output_type": "stream",
     "text": [
      "Total Subjects :  1\n"
     ]
    }
   ],
   "source": [
    "dirPath = ph.download_data(baseDir='../PhyAAt_Data', subject=1,verbose=0,overwrite=False)\n",
    "\n",
    "baseDir='../PhyAAt_Data'\n",
    "\n",
    "SubID = ph.ReadFilesPath(baseDir)\n",
    "\n",
    "Subj = ph.Subject(SubID[1])"
   ]
  },
  {
   "cell_type": "markdown",
   "metadata": {},
   "source": [
    "## Filtering \n",
    "**With Custum frequency range**"
   ]
  },
  {
   "cell_type": "code",
   "execution_count": 7,
   "metadata": {
    "ExecuteTime": {
     "end_time": "2020-05-23T22:56:45.681146Z",
     "start_time": "2020-05-23T22:56:43.394266Z"
    }
   },
   "outputs": [],
   "source": [
    "Subj.filter_EEG(band =[0.5,40],btype='bandpass',order=5)"
   ]
  },
  {
   "cell_type": "markdown",
   "metadata": {},
   "source": [
    "## Artifact removal using ICA\n",
    "**Tune threshold, windowsize, ICA method**"
   ]
  },
  {
   "cell_type": "code",
   "execution_count": 9,
   "metadata": {
    "ExecuteTime": {
     "end_time": "2020-05-23T23:00:22.595204Z",
     "start_time": "2020-05-23T22:58:16.078092Z"
    }
   },
   "outputs": [
    {
     "name": "stdout",
     "output_type": "stream",
     "text": [
      "ICA Artifact Removal : infomax\n",
      "100%|####################################################################################################|\n"
     ]
    }
   ],
   "source": [
    "KurThr = 1.5\n",
    "Corr   = 0.7\n",
    "ICAMed = 'infomax' #picard, fastICA\n",
    "winsize=128*20 # 20sec\n",
    "\n",
    "Subj.correct(method='ICA',winsize=winsize,hopesize=None,Corr=Corr,KurThr=KurThr,ICAMed=ICAMed,verbose=1,\n",
    "             window=['hamming',True],winMeth='custom')"
   ]
  },
  {
   "cell_type": "code",
   "execution_count": 13,
   "metadata": {
    "ExecuteTime": {
     "end_time": "2020-05-23T23:06:10.132536Z",
     "start_time": "2020-05-23T23:06:10.126552Z"
    }
   },
   "outputs": [
    {
     "name": "stdout",
     "output_type": "stream",
     "text": [
      "Help on function correct in module phyaat.ProcessingLib:\n",
      "\n",
      "correct(self, method='ICA', winsize=128, hopesize=None, Corr=0.8, KurThr=2, ICAMed='extended-infomax', verbose=0, window=['hamming', True], winMeth='custom')\n",
      "    method: 'ICA', ('WPA', 'ATAR' ) - not yet updated to library\n",
      "    ICAMed: ['fastICA','infomax','extended-infomax','picard']\n",
      "    winsize: 128, window size to processe\n",
      "    hopesize: 64, overlapping samples, if None, hopesize=winsize//2\n",
      "    window: ['hamming',True], window[1]=False to avoid windowing,  \n",
      "    \n",
      "    KurThr: (2) threshold on kurtosis to eliminate artifact, ICA component with kurtosis above threshold are removed.\n",
      "    Corr = 0.8, correlation threshold, above which ica components are removed.\n",
      "\n"
     ]
    }
   ],
   "source": [
    "# Check help for details\n",
    "help(ph.Subject.correct)"
   ]
  },
  {
   "cell_type": "markdown",
   "metadata": {},
   "source": [
    "## T3: Semanticity Classification "
   ]
  },
  {
   "cell_type": "code",
   "execution_count": 10,
   "metadata": {
    "ExecuteTime": {
     "end_time": "2020-05-23T23:01:00.219334Z",
     "start_time": "2020-05-23T23:00:35.082629Z"
    }
   },
   "outputs": [
    {
     "name": "stdout",
     "output_type": "stream",
     "text": [
      "100%|##################################################|100\\100|Sg - 0\n",
      "Done..\n",
      "100%|##################################################|43\\43|Sg - 0\n",
      "Done..\n",
      "DataShape:  (100, 84) (100,) (43, 84) (43,)\n",
      "\n",
      "Class labels : [0 1]\n"
     ]
    }
   ],
   "source": [
    "# setting task=-1, does extract the features from all the segmensts for all the four tasks and \n",
    "# returns y_train as (n,4), one coulum for each task. Next time extracting Xy for any particular\n",
    "# task won't extract the features agains, unless you force it by setting 'redo'=True.\n",
    "\n",
    "X_train,y_train,X_test, y_test = Subj.getXy_eeg(task=3)\n",
    "\n",
    "print('DataShape: ',X_train.shape,y_train.shape,X_test.shape, y_test.shape)\n",
    "print('\\nClass labels :',np.unique(y_train))"
   ]
  },
  {
   "cell_type": "code",
   "execution_count": 12,
   "metadata": {
    "ExecuteTime": {
     "end_time": "2020-05-23T23:01:31.542601Z",
     "start_time": "2020-05-23T23:01:31.528602Z"
    }
   },
   "outputs": [
    {
     "name": "stdout",
     "output_type": "stream",
     "text": [
      "Training Accuracy: 0.88\n",
      "Testing  Accuracy: 0.6046511627906976\n"
     ]
    }
   ],
   "source": [
    "# Normalization - SVM works well with normalized features\n",
    "means = X_train.mean(0)\n",
    "std   = X_train.std(0)\n",
    "X_train = (X_train-means)/std\n",
    "X_test  = (X_test-means)/std\n",
    "\n",
    "\n",
    "# Training\n",
    "clf = svm.SVC(kernel='rbf', C=1,gamma='auto')\n",
    "clf.fit(X_train,y_train)\n",
    "\n",
    "# Predition\n",
    "ytp = clf.predict(X_train)\n",
    "ysp = clf.predict(X_test)\n",
    "\n",
    "# Evaluation\n",
    "print('Training Accuracy:',np.mean(y_train==ytp))\n",
    "print('Testing  Accuracy:',np.mean(y_test==ysp))"
   ]
  }
 ],
 "metadata": {
  "kernelspec": {
   "display_name": "Python 3",
   "language": "python",
   "name": "python3"
  },
  "language_info": {
   "codemirror_mode": {
    "name": "ipython",
    "version": 3
   },
   "file_extension": ".py",
   "mimetype": "text/x-python",
   "name": "python",
   "nbconvert_exporter": "python",
   "pygments_lexer": "ipython3",
   "version": "3.7.4"
  },
  "latex_envs": {
   "LaTeX_envs_menu_present": true,
   "autoclose": false,
   "autocomplete": true,
   "bibliofile": "biblio.bib",
   "cite_by": "apalike",
   "current_citInitial": 1,
   "eqLabelWithNumbers": true,
   "eqNumInitial": 1,
   "hotkeys": {
    "equation": "Ctrl-E",
    "itemize": "Ctrl-I"
   },
   "labels_anchors": false,
   "latex_user_defs": false,
   "report_style_numbering": false,
   "user_envs_cfg": false
  },
  "toc": {
   "base_numbering": 1,
   "nav_menu": {},
   "number_sections": true,
   "sideBar": true,
   "skip_h1_title": true,
   "title_cell": "Table of Contents",
   "title_sidebar": "Contents",
   "toc_cell": true,
   "toc_position": {},
   "toc_section_display": true,
   "toc_window_display": true
  },
  "varInspector": {
   "cols": {
    "lenName": 16,
    "lenType": 16,
    "lenVar": 40
   },
   "kernels_config": {
    "python": {
     "delete_cmd_postfix": "",
     "delete_cmd_prefix": "del ",
     "library": "var_list.py",
     "varRefreshCmd": "print(var_dic_list())"
    },
    "r": {
     "delete_cmd_postfix": ") ",
     "delete_cmd_prefix": "rm(",
     "library": "var_list.r",
     "varRefreshCmd": "cat(var_dic_list()) "
    }
   },
   "types_to_exclude": [
    "module",
    "function",
    "builtin_function_or_method",
    "instance",
    "_Feature"
   ],
   "window_display": false
  }
 },
 "nbformat": 4,
 "nbformat_minor": 2
}
