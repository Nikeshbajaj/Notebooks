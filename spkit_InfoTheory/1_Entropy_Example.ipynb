{
 "cells": [
  {
   "cell_type": "markdown",
   "metadata": {
    "toc": true
   },
   "source": [
    "<h1>Table of Contents<span class=\"tocSkip\"></span></h1>\n",
    "<div class=\"toc\"><ul class=\"toc-item\"><li><span><a href=\"#Computing-entropy-random-signal\" data-toc-modified-id=\"Computing-entropy-random-signal-1\"><span class=\"toc-item-num\">1&nbsp;&nbsp;</span>Computing entropy random signal</a></span></li><li><span><a href=\"#Entropy-of-EEG-signal\" data-toc-modified-id=\"Entropy-of-EEG-signal-2\"><span class=\"toc-item-num\">2&nbsp;&nbsp;</span>Entropy of EEG signal</a></span></li></ul></div>"
   ]
  },
  {
   "cell_type": "markdown",
   "metadata": {},
   "source": [
    "## Computing entropy random signal"
   ]
  },
  {
   "cell_type": "code",
   "execution_count": 1,
   "metadata": {
    "ExecuteTime": {
     "end_time": "2019-09-19T15:54:44.958653Z",
     "start_time": "2019-09-19T15:54:43.480505Z"
    }
   },
   "outputs": [],
   "source": [
    "import numpy as np\n",
    "import matplotlib.pyplot as plt\n",
    "import spkit as sp"
   ]
  },
  {
   "cell_type": "code",
   "execution_count": 2,
   "metadata": {
    "ExecuteTime": {
     "end_time": "2019-09-19T15:54:45.451702Z",
     "start_time": "2019-09-19T15:54:44.960653Z"
    }
   },
   "outputs": [
    {
     "name": "stdout",
     "output_type": "stream",
     "text": [
      "Shannan entropy\n",
      "Entropy of x: H(x) =  4.4581180171280685\n",
      "Entropy of y: H(y) =  5.04102391756942\n",
      "-\n",
      "Rényi entropy\n",
      "Entropy of x: H(x) =  4.456806796146617\n",
      "Entropy of y: H(y) =  4.828391418226062\n",
      "-\n",
      "Mutual Information I(x,y) =  0.05934937774825322\n",
      "Joint Entropy H(x,y) =  9.439792556949234\n",
      "Conditional Entropy of : H(x|y) =  4.398768639379814\n",
      "Conditional Entropy of : H(y|x) =  4.9816745398211655\n",
      "-\n",
      "Cross Entropy of : H(x,y) = : 11.591688735915701\n",
      "Kullback–Leibler divergence : Dkl(x,y) = : 4.203058010473213\n"
     ]
    },
    {
     "data": {
      "image/png": "[encoded data removed]",
      "text/plain": [
       "<Figure size 864x360 with 2 Axes>"
      ]
     },
     "metadata": {
      "needs_background": "light"
     },
     "output_type": "display_data"
    }
   ],
   "source": [
    "x = np.random.rand(10000)\n",
    "y = np.random.randn(10000)\n",
    "\n",
    "#Shannan entropy\n",
    "H_x= sp.entropy(x,alpha=1)\n",
    "H_y= sp.entropy(y,alpha=1)\n",
    "\n",
    "#Rényi entropy\n",
    "Hr_x= sp.entropy(x,alpha=2)\n",
    "Hr_y= sp.entropy(y,alpha=2)\n",
    "\n",
    "H_xy= sp.entropy_joint(x,y)\n",
    "\n",
    "H_x1y= sp.entropy_cond(x,y)\n",
    "H_y1x= sp.entropy_cond(y,x)\n",
    "\n",
    "I_xy = sp.mutual_Info(x,y)\n",
    "\n",
    "H_xy_cross= sp.entropy_cross(x,y)\n",
    "\n",
    "D_xy= sp.entropy_kld(x,y)\n",
    "\n",
    "\n",
    "print('Shannan entropy')\n",
    "print('Entropy of x: H(x) = ',H_x)\n",
    "print('Entropy of y: H(y) = ',H_y)\n",
    "print('-')\n",
    "print('Rényi entropy')\n",
    "print('Entropy of x: H(x) = ',Hr_x)\n",
    "print('Entropy of y: H(y) = ',Hr_y)\n",
    "print('-')\n",
    "print('Mutual Information I(x,y) = ',I_xy)\n",
    "print('Joint Entropy H(x,y) = ',H_xy)\n",
    "print('Conditional Entropy of : H(x|y) = ',H_x1y)\n",
    "print('Conditional Entropy of : H(y|x) = ',H_y1x)\n",
    "print('-')\n",
    "print('Cross Entropy of : H(x,y) = :',H_xy_cross)\n",
    "print('Kullback–Leibler divergence : Dkl(x,y) = :',D_xy)\n",
    "\n",
    "\n",
    "\n",
    "plt.figure(figsize=(12,5))\n",
    "plt.subplot(121)\n",
    "sp.HistPlot(x,show=False)\n",
    "\n",
    "plt.subplot(122)\n",
    "sp.HistPlot(y,show=False)\n",
    "plt.show()"
   ]
  },
  {
   "cell_type": "markdown",
   "metadata": {},
   "source": [
    "## Entropy of EEG signal"
   ]
  },
  {
   "cell_type": "code",
   "execution_count": 3,
   "metadata": {
    "ExecuteTime": {
     "end_time": "2019-09-19T15:55:06.235781Z",
     "start_time": "2019-09-19T15:55:06.162773Z"
    }
   },
   "outputs": [],
   "source": [
    "from spkit.data import load_data"
   ]
  },
  {
   "cell_type": "code",
   "execution_count": 14,
   "metadata": {
    "ExecuteTime": {
     "end_time": "2019-09-19T16:04:11.750327Z",
     "start_time": "2019-09-19T16:04:11.739325Z"
    }
   },
   "outputs": [
    {
     "name": "stdout",
     "output_type": "stream",
     "text": [
      "(2048, 14)\n",
      "['AF3', 'F7', 'F3', 'FC5', 'T7', 'P7', 'O1', 'O2', 'P8', 'T8', 'FC6', 'F4', 'F8', 'AF4']\n"
     ]
    }
   ],
   "source": [
    "X,ch_names = load_data.eegSample()\n",
    "print(X.shape)\n",
    "print(ch_names)"
   ]
  },
  {
   "cell_type": "code",
   "execution_count": 12,
   "metadata": {
    "ExecuteTime": {
     "end_time": "2019-09-19T16:03:38.591011Z",
     "start_time": "2019-09-19T16:03:38.559008Z"
    }
   },
   "outputs": [
    {
     "name": "stdout",
     "output_type": "stream",
     "text": [
      "Shannan entropy\n",
      "Entropy of x1: H(x1) =\t  4.811416424350645\n",
      "Entropy of x2: H(x2) =\t  4.697278111823318\n",
      "-\n",
      "Rényi entropy\n",
      "Entropy of x1: H(x1) =\t  4.239955818998481\n",
      "Entropy of x2: H(x2) =\t  4.145472461333239\n",
      "-\n",
      "Joint Entropy H(x1,x2) =\t 3.655513859907648\n",
      "Mutual Information I(x1,x2) =\t 1.1559025644429965\n",
      "Conditional Entropy of : H(x1|x2) =\t 3.655513859907648\n",
      "Conditional Entropy of : H(x2|x1) =\t 3.541375547380321\n",
      "-\n",
      "Cross Entropy of : H(x1,x2) =\t 5.686498222841184\n",
      "Kullback–Leibler divergence : Dkl(x1,x2) =\t 0.7202757885313226\n"
     ]
    }
   ],
   "source": [
    "x1 =X[:,0] #'AF3' - Frontal Lobe\n",
    "x2 =X[:,6] #'O1'  - Occipital Lobe\n",
    "#Shannan entropy\n",
    "H_x1= sp.entropy(x1,alpha=1)\n",
    "H_x2= sp.entropy(x2,alpha=1)\n",
    "\n",
    "#Rényi entropy\n",
    "Hr_x1= sp.entropy(x1,alpha=2)\n",
    "Hr_x2= sp.entropy(x2,alpha=2)\n",
    "\n",
    "#Joint entropy\n",
    "H_x12= sp.entropy_joint(x1,x2)\n",
    "\n",
    "#Conditional Entropy\n",
    "H_x12= sp.entropy_cond(x1,x2)\n",
    "H_x21= sp.entropy_cond(x2,x1)\n",
    "\n",
    "#Mutual Entropy\n",
    "I_x12 = sp.mutual_Info(x1,x2)\n",
    "\n",
    "#Cross Entropy\n",
    "H_x12_cross= sp.entropy_cross(x1,x2)\n",
    "\n",
    "#Diff Entropy\n",
    "D_x12= sp.entropy_kld(x1,x2)\n",
    "\n",
    "\n",
    "print('Shannan entropy')\n",
    "print('Entropy of x1: H(x1) =\\t ',H_x1)\n",
    "print('Entropy of x2: H(x2) =\\t ',H_x2)\n",
    "print('-')\n",
    "print('Rényi entropy')\n",
    "print('Entropy of x1: H(x1) =\\t ',Hr_x1)\n",
    "print('Entropy of x2: H(x2) =\\t ',Hr_x2)\n",
    "print('-')\n",
    "print('Joint Entropy H(x1,x2) =\\t',H_x12)\n",
    "print('Mutual Information I(x1,x2) =\\t',I_x12)\n",
    "print('Conditional Entropy of : H(x1|x2) =\\t',H_x12)\n",
    "print('Conditional Entropy of : H(x2|x1) =\\t',H_x21)\n",
    "print('-')\n",
    "print('Cross Entropy of : H(x1,x2) =\\t',H_x12_cross)\n",
    "print('Kullback–Leibler divergence : Dkl(x1,x2) =\\t',D_x12)"
   ]
  }
 ],
 "metadata": {
  "kernelspec": {
   "display_name": "Python 3",
   "language": "python",
   "name": "python3"
  },
  "language_info": {
   "codemirror_mode": {
    "name": "ipython",
    "version": 3
   },
   "file_extension": ".py",
   "mimetype": "text/x-python",
   "name": "python",
   "nbconvert_exporter": "python",
   "pygments_lexer": "ipython3",
   "version": "3.7.3"
  },
  "toc": {
   "base_numbering": 1,
   "nav_menu": {},
   "number_sections": true,
   "sideBar": true,
   "skip_h1_title": true,
   "title_cell": "Table of Contents",
   "title_sidebar": "Contents",
   "toc_cell": true,
   "toc_position": {
    "height": "calc(100% - 180px)",
    "left": "10px",
    "top": "150px",
    "width": "199px"
   },
   "toc_section_display": true,
   "toc_window_display": true
  }
 },
 "nbformat": 4,
 "nbformat_minor": 2
}
