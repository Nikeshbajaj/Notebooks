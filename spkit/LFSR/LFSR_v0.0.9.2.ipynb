{
 "cells": [
  {
   "cell_type": "markdown",
   "metadata": {
    "toc": true
   },
   "source": [
    "<h1>Table of Contents<span class=\"tocSkip\"></span></h1>\n",
    "<div class=\"toc\"><ul class=\"toc-item\"><li><span><a href=\"#5-bit-LFSR\" data-toc-modified-id=\"5-bit-LFSR-1\"><span class=\"toc-item-num\">1&nbsp;&nbsp;</span>5-bit LFSR</a></span></li><li><span><a href=\"#with-custom-feedback-and-initial-state\" data-toc-modified-id=\"with-custom-feedback-and-initial-state-2\"><span class=\"toc-item-num\">2&nbsp;&nbsp;</span>with custom feedback and initial state</a></span></li><li><span><a href=\"#Print-at-each-step\" data-toc-modified-id=\"Print-at-each-step-3\"><span class=\"toc-item-num\">3&nbsp;&nbsp;</span>Print at each step</a></span><ul class=\"toc-item\"><li><span><a href=\"#with-default-counter_start_zero-=-True\" data-toc-modified-id=\"with-default-counter_start_zero-=-True-3.1\"><span class=\"toc-item-num\">3.1&nbsp;&nbsp;</span>with default counter_start_zero = True</a></span></li><li><span><a href=\"#with-counter_start_zero-=-False\" data-toc-modified-id=\"with-counter_start_zero-=-False-3.2\"><span class=\"toc-item-num\">3.2&nbsp;&nbsp;</span>with counter_start_zero = False</a></span></li></ul></li><li><span><a href=\"#23-bit-LFSR\" data-toc-modified-id=\"23-bit-LFSR-4\"><span class=\"toc-item-num\">4&nbsp;&nbsp;</span>23-bit LFSR</a></span></li><li><span><a href=\"#Testing-properties-of-LFSR\" data-toc-modified-id=\"Testing-properties-of-LFSR-5\"><span class=\"toc-item-num\">5&nbsp;&nbsp;</span>Testing properties of LFSR</a></span><ul class=\"toc-item\"><li><span><a href=\"#All-tests-together\" data-toc-modified-id=\"All-tests-together-5.1\"><span class=\"toc-item-num\">5.1&nbsp;&nbsp;</span>All tests together</a></span></li><li><span><a href=\"#Individual-test-for-a-period\" data-toc-modified-id=\"Individual-test-for-a-period-5.2\"><span class=\"toc-item-num\">5.2&nbsp;&nbsp;</span>Individual test for a period</a></span></li><li><span><a href=\"#Testing-properties-for-non-primitive-polynomial\" data-toc-modified-id=\"Testing-properties-for-non-primitive-polynomial-5.3\"><span class=\"toc-item-num\">5.3&nbsp;&nbsp;</span>Testing properties for non-primitive polynomial</a></span></li></ul></li><li><span><a href=\"#Get-a-list-of-feedback-polynomials-for-m-bit-LFSR\" data-toc-modified-id=\"Get-a-list-of-feedback-polynomials-for-m-bit-LFSR-6\"><span class=\"toc-item-num\">6&nbsp;&nbsp;</span>Get a list of feedback polynomials for m-bit LFSR</a></span></li><li><span><a href=\"#Changing-feedback-polynomial-in-between\" data-toc-modified-id=\"Changing-feedback-polynomial-in-between-7\"><span class=\"toc-item-num\">7&nbsp;&nbsp;</span>Changing feedback polynomial in between</a></span></li><li><span><a href=\"#A5/1-GSM-Stream-Cipher\" data-toc-modified-id=\"A5/1-GSM-Stream-Cipher-8\"><span class=\"toc-item-num\">8&nbsp;&nbsp;</span>A5/1 GSM Stream Cipher</a></span></li></ul></div>"
   ]
  },
  {
   "cell_type": "code",
   "execution_count": 1,
   "metadata": {
    "ExecuteTime": {
     "end_time": "2021-04-23T17:51:28.709428Z",
     "start_time": "2021-04-23T17:51:27.837970Z"
    }
   },
   "outputs": [
    {
     "name": "stdout",
     "output_type": "stream",
     "text": [
      "spkit version :  0.0.9.2\n"
     ]
    }
   ],
   "source": [
    "import numpy as np\n",
    "\n",
    "import spkit\n",
    "print('spkit version : ',spkit.__version__)\n",
    "from spkit.pylfsr import LFSR\n",
    "\n",
    "#or from pylfsr import LFSR (if you installed pylfsr==1.0.5)"
   ]
  },
  {
   "cell_type": "markdown",
   "metadata": {},
   "source": [
    "# 5-bit LFSR"
   ]
  },
  {
   "cell_type": "code",
   "execution_count": 2,
   "metadata": {
    "ExecuteTime": {
     "end_time": "2021-04-23T17:51:31.055092Z",
     "start_time": "2021-04-23T17:51:31.038345Z"
    }
   },
   "outputs": [
    {
     "name": "stdout",
     "output_type": "stream",
     "text": [
      "5 bit LFSR with feedback polynomial  x^5 + x^2 + 1\n",
      "Expected Period (if polynomial is primitive) =  31\n",
      "Current :\n",
      " State        :  [1 1 1 1 1]\n",
      " Count        :  0\n",
      " Output bit   :  -1\n",
      " feedback bit :  -1\n"
     ]
    }
   ],
   "source": [
    "L = LFSR()\n",
    "L.info()"
   ]
  },
  {
   "cell_type": "code",
   "execution_count": 3,
   "metadata": {
    "ExecuteTime": {
     "end_time": "2021-04-23T17:51:31.391934Z",
     "start_time": "2021-04-23T17:51:31.375922Z"
    }
   },
   "outputs": [
    {
     "name": "stdout",
     "output_type": "stream",
     "text": [
      "5 bit LFSR with feedback polynomial  x^5 + x^2 + 1\n",
      "Expected Period (if polynomial is primitive) =  31\n",
      "Current :\n",
      " State        :  [0 1 1 1 1]\n",
      " Count        :  1\n",
      " Output bit   :  1\n",
      " feedback bit :  0\n",
      " Output Sequence 1\n"
     ]
    }
   ],
   "source": [
    "L.next()\n",
    "L.info()"
   ]
  },
  {
   "cell_type": "code",
   "execution_count": 4,
   "metadata": {
    "ExecuteTime": {
     "end_time": "2021-04-23T17:51:31.702031Z",
     "start_time": "2021-04-23T17:51:31.690052Z"
    }
   },
   "outputs": [
    {
     "name": "stdout",
     "output_type": "stream",
     "text": [
      "5 bit LFSR with feedback polynomial  x^5 + x^2 + 1\n",
      "Expected Period (if polynomial is primitive) =  31\n",
      "Current :\n",
      " State        :  [0 0 1 0 0]\n",
      " Count        :  11\n",
      " Output bit   :  1\n",
      " feedback bit :  0\n",
      " Output Sequence 11111001101\n"
     ]
    }
   ],
   "source": [
    "L.runKCycle(10)\n",
    "L.info()"
   ]
  },
  {
   "cell_type": "code",
   "execution_count": 5,
   "metadata": {
    "ExecuteTime": {
     "end_time": "2021-04-23T17:51:32.006330Z",
     "start_time": "2021-04-23T17:51:31.994766Z"
    }
   },
   "outputs": [
    {
     "data": {
      "text/plain": [
       "array([1, 1, 1, 1, 1, 0, 0, 1, 1, 0, 1])"
      ]
     },
     "execution_count": 5,
     "metadata": {},
     "output_type": "execute_result"
    }
   ],
   "source": [
    "L.seq"
   ]
  },
  {
   "cell_type": "markdown",
   "metadata": {},
   "source": [
    "# with custom feedback and initial state"
   ]
  },
  {
   "cell_type": "code",
   "execution_count": 6,
   "metadata": {
    "ExecuteTime": {
     "end_time": "2021-04-23T17:51:32.608984Z",
     "start_time": "2021-04-23T17:51:32.591130Z"
    }
   },
   "outputs": [
    {
     "name": "stdout",
     "output_type": "stream",
     "text": [
      "5 bit LFSR with feedback polynomial  x^5 + x^4 + x^3 + x^2 + 1\n",
      "Expected Period (if polynomial is primitive) =  31\n",
      "Current :\n",
      " State        :  [0 0 0 1 0]\n",
      " Count        :  0\n",
      " Output bit   :  -1\n",
      " feedback bit :  -1\n",
      "S:  [0 0 0 1 0]\n",
      "S:  [1 0 0 0 1]\n",
      "S:  [1 1 0 0 0]\n",
      "S:  [1 1 1 0 0]\n",
      "S:  [0 1 1 1 0]\n",
      "S:  [1 0 1 1 1]\n",
      "S:  [1 1 0 1 1]\n",
      "S:  [1 1 1 0 1]\n",
      "S:  [1 1 1 1 0]\n",
      "S:  [1 1 1 1 1]\n"
     ]
    },
    {
     "data": {
      "text/plain": [
       "array([0, 1, 0, 0, 0, 1, 1, 1, 0, 1])"
      ]
     },
     "execution_count": 6,
     "metadata": {},
     "output_type": "execute_result"
    }
   ],
   "source": [
    "state = [0,0,0,1,0]\n",
    "fpoly = [5,4,3,2]\n",
    "L = LFSR(fpoly=fpoly,initstate =state, verbose=True)\n",
    "L.info()\n",
    "tempseq = L.runKCycle(10)\n",
    "tempseq"
   ]
  },
  {
   "cell_type": "markdown",
   "metadata": {},
   "source": [
    "# Print at each step\n",
    "\n",
    "## with default counter_start_zero = True"
   ]
  },
  {
   "cell_type": "code",
   "execution_count": 7,
   "metadata": {
    "ExecuteTime": {
     "end_time": "2021-04-23T17:51:33.242389Z",
     "start_time": "2021-04-23T17:51:33.223345Z"
    }
   },
   "outputs": [
    {
     "name": "stdout",
     "output_type": "stream",
     "text": [
      "count \t state \t\toutbit \t seq\n",
      "--------------------------------------------------\n",
      "0\t[1 1 1]\t\t-1\t[-1]\n",
      "1\t[0 1 1]\t\t1\t[1]\n",
      "2\t[0 0 1]\t\t1\t[1 1]\n",
      "3\t[1 0 0]\t\t1\t[1 1 1]\n",
      "4\t[0 1 0]\t\t0\t[1 1 1 0]\n",
      "5\t[1 0 1]\t\t0\t[1 1 1 0 0]\n",
      "6\t[1 1 0]\t\t1\t[1 1 1 0 0 1]\n",
      "7\t[1 1 1]\t\t0\t[1 1 1 0 0 1 0]\n",
      "8\t[0 1 1]\t\t1\t[1 1 1 0 0 1 0 1]\n",
      "9\t[0 0 1]\t\t1\t[1 1 1 0 0 1 0 1 1]\n",
      "10\t[1 0 0]\t\t1\t[1 1 1 0 0 1 0 1 1 1]\n",
      "11\t[0 1 0]\t\t0\t[1 1 1 0 0 1 0 1 1 1 0]\n",
      "12\t[1 0 1]\t\t0\t[1 1 1 0 0 1 0 1 1 1 0 0]\n",
      "13\t[1 1 0]\t\t1\t[1 1 1 0 0 1 0 1 1 1 0 0 1]\n",
      "14\t[1 1 1]\t\t0\t[1 1 1 0 0 1 0 1 1 1 0 0 1 0]\n",
      "--------------------------------------------------\n",
      "Output:  [1 1 1 0 0 1 0 1 1 1 0 0 1 0 1]\n"
     ]
    }
   ],
   "source": [
    "state = [1,1,1]\n",
    "fpoly = [3,2]\n",
    "L = LFSR(initstate=state,fpoly=fpoly)\n",
    "print('count \\t state \\t\\toutbit \\t seq')\n",
    "print('-'*50)\n",
    "for _ in range(15):\n",
    "    print(L.count,L.state,'',L.outbit,L.seq,sep='\\t')\n",
    "    L.next()\n",
    "print('-'*50)\n",
    "print('Output: ',L.seq)"
   ]
  },
  {
   "cell_type": "markdown",
   "metadata": {},
   "source": [
    "##  with counter_start_zero = False"
   ]
  },
  {
   "cell_type": "code",
   "execution_count": 8,
   "metadata": {
    "ExecuteTime": {
     "end_time": "2021-04-23T17:51:33.820776Z",
     "start_time": "2021-04-23T17:51:33.802853Z"
    }
   },
   "outputs": [
    {
     "name": "stdout",
     "output_type": "stream",
     "text": [
      "count \t state \t\toutbit \t seq\n",
      "--------------------------------------------------\n",
      "1\t[1 1 1]\t\t1\t[1]\n",
      "2\t[0 1 1]\t\t1\t[1 1]\n",
      "3\t[0 0 1]\t\t1\t[1 1 1]\n",
      "4\t[1 0 0]\t\t1\t[1 1 1 0]\n",
      "5\t[0 1 0]\t\t0\t[1 1 1 0 0]\n",
      "6\t[1 0 1]\t\t0\t[1 1 1 0 0 1]\n",
      "7\t[1 1 0]\t\t1\t[1 1 1 0 0 1 0]\n",
      "8\t[1 1 1]\t\t0\t[1 1 1 0 0 1 0 1]\n",
      "9\t[0 1 1]\t\t1\t[1 1 1 0 0 1 0 1 1]\n",
      "10\t[0 0 1]\t\t1\t[1 1 1 0 0 1 0 1 1 1]\n",
      "11\t[1 0 0]\t\t1\t[1 1 1 0 0 1 0 1 1 1 0]\n",
      "12\t[0 1 0]\t\t0\t[1 1 1 0 0 1 0 1 1 1 0 0]\n",
      "13\t[1 0 1]\t\t0\t[1 1 1 0 0 1 0 1 1 1 0 0 1]\n",
      "14\t[1 1 0]\t\t1\t[1 1 1 0 0 1 0 1 1 1 0 0 1 0]\n",
      "--------------------------------------------------\n",
      "Output:  [1 1 1 0 0 1 0 1 1 1 0 0 1 0 1]\n"
     ]
    }
   ],
   "source": [
    "state = [1,1,1]\n",
    "fpoly = [3,2]\n",
    "L = LFSR(initstate=state,fpoly=fpoly,counter_start_zero=False)\n",
    "print('count \\t state \\t\\toutbit \\t seq')\n",
    "print('-'*50)\n",
    "for _ in range(14):\n",
    "    print(L.count,L.state,'',L.outbit,L.seq,sep='\\t')\n",
    "    L.next()\n",
    "print('-'*50)\n",
    "print('Output: ',L.seq)"
   ]
  },
  {
   "cell_type": "markdown",
   "metadata": {},
   "source": [
    "# 23-bit LFSR"
   ]
  },
  {
   "cell_type": "code",
   "execution_count": 9,
   "metadata": {
    "ExecuteTime": {
     "end_time": "2021-04-23T17:51:34.395540Z",
     "start_time": "2021-04-23T17:51:34.384409Z"
    }
   },
   "outputs": [
    {
     "name": "stdout",
     "output_type": "stream",
     "text": [
      "23 bit LFSR with feedback polynomial  x^23 + x^19 + 1\n",
      "Expected Period (if polynomial is primitive) =  8388607\n",
      "Current :\n",
      " State        :  [1 1 1 1 1 1 1 1 1 1 1 1 1 1 1 1 1 1 1 1 1 1 1]\n",
      " Count        :  0\n",
      " Output bit   :  -1\n",
      " feedback bit :  -1\n"
     ]
    }
   ],
   "source": [
    "fpoly = [23,19]\n",
    "L1 = LFSR(fpoly=fpoly,initstate ='ones', verbose=False)\n",
    "L1.info()"
   ]
  },
  {
   "cell_type": "code",
   "execution_count": 10,
   "metadata": {
    "ExecuteTime": {
     "end_time": "2021-04-23T17:51:34.681182Z",
     "start_time": "2021-04-23T17:51:34.663023Z"
    }
   },
   "outputs": [
    {
     "data": {
      "text/plain": [
       "array([1, 1, 1, 1, 1, 1, 1, 1, 1, 1, 1, 1, 1, 1, 1, 1, 1, 1, 1, 1, 1, 1,\n",
       "       1, 0, 0, 0, 0, 0, 0, 0, 0, 0, 0, 0, 0, 0, 0, 0, 0, 0, 0, 0, 1, 1,\n",
       "       1, 1, 0, 0, 0, 0, 0, 0, 0, 0, 0, 0, 0, 0, 0, 0, 0, 1, 1, 1, 1, 1,\n",
       "       1, 1, 1, 0, 0, 0, 0, 0, 0, 0, 0, 0, 0, 0, 1, 1, 1, 1, 0, 0, 0, 0,\n",
       "       1, 1, 1, 1, 0, 0, 0, 0, 0, 0, 0, 1])"
      ]
     },
     "execution_count": 10,
     "metadata": {},
     "output_type": "execute_result"
    }
   ],
   "source": [
    "seq = L1.runKCycle(100)\n",
    "seq"
   ]
  },
  {
   "cell_type": "markdown",
   "metadata": {},
   "source": [
    "# Testing properties of LFSR\n",
    "\n",
    "## All tests together"
   ]
  },
  {
   "cell_type": "code",
   "execution_count": 11,
   "metadata": {
    "ExecuteTime": {
     "end_time": "2021-04-23T17:51:35.521478Z",
     "start_time": "2021-04-23T17:51:35.244311Z"
    }
   },
   "outputs": [
    {
     "name": "stdout",
     "output_type": "stream",
     "text": [
      "1. Periodicity\n",
      "------------------\n",
      " - Expected period = 2^M-1 = 31\n",
      " - Pass?:  True\n",
      "\n",
      "2. Balance Property\n",
      "-------------------\n",
      " - Number of 1s = Number of 0s+1 (in a period): (N1s,N0s) =  (16, 15)\n",
      " - Pass?:  True\n",
      "\n",
      "3. Runlength Property\n",
      "-------------------\n",
      " - Number of Runs in a period should be of specific order, e.g. [4,2,1,1]\n",
      " - Runs:  [8 4 2 1 1]\n",
      " - Pass?:  True\n",
      "\n",
      "4. Autocorrelation Property\n",
      "-------------------\n",
      " - Autocorrelation of a period should be noise-like, specifically, 1 at k=0, -1/m everywhere else\n",
      " - Rxx(k):  [ 1.         -0.03225806 -0.03225806 -0.03225806 -0.03225806 -0.03225806\n",
      " -0.03225806 -0.03225806 -0.03225806 -0.03225806 -0.03225806 -0.03225806\n",
      " -0.03225806 -0.03225806 -0.03225806 -0.03225806 -0.03225806 -0.03225806\n",
      " -0.03225806 -0.03225806 -0.03225806 -0.03225806 -0.03225806 -0.03225806\n",
      " -0.03225806 -0.03225806 -0.03225806 -0.03225806 -0.03225806 -0.03225806\n",
      " -0.03225806  1.         -0.03225806 -0.03225806 -0.03225806 -0.03225806\n",
      " -0.03225806 -0.03225806 -0.03225806 -0.03225806 -0.03225806 -0.03225806\n",
      " -0.03225806 -0.03225806 -0.03225806 -0.03225806 -0.03225806 -0.03225806\n",
      " -0.03225806 -0.03225806 -0.03225806 -0.03225806 -0.03225806 -0.03225806\n",
      " -0.03225806 -0.03225806 -0.03225806 -0.03225806 -0.03225806 -0.03225806\n",
      " -0.03225806 -0.03225806  1.        ]\n"
     ]
    },
    {
     "data": {
      "image/png": "[encoded data removed]",
      "text/plain": [
       "<Figure size 432x288 with 1 Axes>"
      ]
     },
     "metadata": {
      "needs_background": "light"
     },
     "output_type": "display_data"
    },
    {
     "name": "stdout",
     "output_type": "stream",
     "text": [
      " - Pass?:  True\n",
      "\n",
      "\n",
      "\n",
      "==================\n",
      "Passed all the tests\n",
      "==================\n"
     ]
    }
   ],
   "source": [
    "state = [1,1,1,1,0]\n",
    "fpoly = [5,3]\n",
    "L = LFSR(initstate=state,fpoly=fpoly)\n",
    "result  = L.test_properties(verbose=2)"
   ]
  },
  {
   "cell_type": "markdown",
   "metadata": {},
   "source": [
    "## Individual test for a period"
   ]
  },
  {
   "cell_type": "code",
   "execution_count": 12,
   "metadata": {
    "ExecuteTime": {
     "end_time": "2021-04-23T17:51:35.837057Z",
     "start_time": "2021-04-23T17:51:35.825066Z"
    }
   },
   "outputs": [
    {
     "data": {
      "text/plain": [
       "array([0, 1, 1, 1, 1, 1, 0, 0, 0, 1, 1, 0, 1, 1, 1, 0, 1, 0, 1, 0, 0, 0,\n",
       "       0, 1, 0, 0, 1, 0, 1, 1, 0])"
      ]
     },
     "execution_count": 12,
     "metadata": {},
     "output_type": "execute_result"
    }
   ],
   "source": [
    "state = [1,1,1,1,0]\n",
    "fpoly = [5,3]\n",
    "L = LFSR(initstate=state,fpoly=fpoly)\n",
    "\n",
    "p = L.getFullPeriod() # \n",
    "p"
   ]
  },
  {
   "cell_type": "code",
   "execution_count": 13,
   "metadata": {
    "ExecuteTime": {
     "end_time": "2021-04-23T17:51:36.118480Z",
     "start_time": "2021-04-23T17:51:36.101800Z"
    }
   },
   "outputs": [
    {
     "data": {
      "text/plain": [
       "(True, (16, 15))"
      ]
     },
     "execution_count": 13,
     "metadata": {},
     "output_type": "execute_result"
    }
   ],
   "source": [
    "L.balance_property(p.copy())"
   ]
  },
  {
   "cell_type": "code",
   "execution_count": 14,
   "metadata": {
    "ExecuteTime": {
     "end_time": "2021-04-23T17:51:36.377390Z",
     "start_time": "2021-04-23T17:51:36.361377Z"
    }
   },
   "outputs": [
    {
     "data": {
      "text/plain": [
       "(True, array([8, 4, 2, 1, 1]))"
      ]
     },
     "execution_count": 14,
     "metadata": {},
     "output_type": "execute_result"
    }
   ],
   "source": [
    "L.runlength_property(p.copy())"
   ]
  },
  {
   "cell_type": "code",
   "execution_count": 15,
   "metadata": {
    "ExecuteTime": {
     "end_time": "2021-04-23T17:51:36.608626Z",
     "start_time": "2021-04-23T17:51:36.590374Z"
    }
   },
   "outputs": [
    {
     "data": {
      "text/plain": [
       "True"
      ]
     },
     "execution_count": 15,
     "metadata": {},
     "output_type": "execute_result"
    }
   ],
   "source": [
    "L.autocorr_property(p.copy())[0]"
   ]
  },
  {
   "cell_type": "markdown",
   "metadata": {},
   "source": [
    "## Testing properties for non-primitive polynomial"
   ]
  },
  {
   "cell_type": "code",
   "execution_count": 16,
   "metadata": {
    "ExecuteTime": {
     "end_time": "2021-04-23T17:51:37.304444Z",
     "start_time": "2021-04-23T17:51:37.117167Z"
    }
   },
   "outputs": [
    {
     "name": "stdout",
     "output_type": "stream",
     "text": [
      "1. Periodicity\n",
      "------------------\n",
      " - Expected period = 2^M-1 = 31\n",
      " - Pass?:  False\n",
      "\n",
      "2. Balance Property\n",
      "-------------------\n",
      " - Number of 1s = Number of 0s+1 (in a period): (N1s,N0s) =  (17, 14)\n",
      " - Pass?:  False\n",
      "\n",
      "3. Runlength Property\n",
      "-------------------\n",
      " - Number of Runs in a period should be of specific order, e.g. [4,2,1,1]\n",
      " - Runs:  [10  2  1  1  2]\n",
      " - Pass?:  False\n",
      "\n",
      "4. Autocorrelation Property\n",
      "-------------------\n",
      " - Autocorrelation of a period should be noise-like, specifically, 1 at k=0, -1/m everywhere else\n",
      " - Rxx(k):  [ 1.         -0.03225806  0.22580645 -0.16129032  0.09677419 -0.03225806\n",
      " -0.03225806 -0.29032258  0.22580645 -0.16129032  0.35483871 -0.03225806\n",
      " -0.03225806 -0.03225806 -0.29032258 -0.16129032 -0.16129032 -0.29032258\n",
      " -0.03225806 -0.03225806 -0.03225806  0.35483871 -0.16129032  0.22580645\n",
      " -0.29032258 -0.03225806 -0.03225806  0.09677419 -0.16129032  0.22580645\n",
      " -0.03225806  1.         -0.03225806  0.22580645 -0.16129032  0.09677419\n",
      " -0.03225806 -0.03225806 -0.29032258  0.22580645 -0.16129032  0.35483871\n",
      " -0.03225806 -0.03225806 -0.03225806 -0.29032258 -0.16129032 -0.16129032\n",
      " -0.29032258 -0.03225806 -0.03225806 -0.03225806  0.35483871 -0.16129032\n",
      "  0.22580645 -0.29032258 -0.03225806 -0.03225806  0.09677419 -0.16129032\n",
      "  0.22580645 -0.03225806  1.        ]\n"
     ]
    },
    {
     "data": {
      "image/png": "[encoded data removed]",
      "text/plain": [
       "<Figure size 432x288 with 1 Axes>"
      ]
     },
     "metadata": {
      "needs_background": "light"
     },
     "output_type": "display_data"
    },
    {
     "name": "stdout",
     "output_type": "stream",
     "text": [
      " - Pass?:  False\n",
      "\n",
      "\n",
      "\n",
      "==================\n",
      "Failed one or more tests, check if feedback polynomial is primitive polynomial\n",
      "==================\n"
     ]
    }
   ],
   "source": [
    "state = [1,1,1,1,0]\n",
    "fpoly = [5,1]\n",
    "L = LFSR(initstate=state,fpoly=fpoly)\n",
    "result = L.test_properties(verbose=2)"
   ]
  },
  {
   "cell_type": "markdown",
   "metadata": {},
   "source": [
    "# Get a list of feedback polynomials for m-bit LFSR"
   ]
  },
  {
   "cell_type": "code",
   "execution_count": 17,
   "metadata": {
    "ExecuteTime": {
     "end_time": "2021-04-23T17:51:37.629020Z",
     "start_time": "2021-04-23T17:51:37.604044Z"
    }
   },
   "outputs": [
    {
     "data": {
      "text/plain": [
       "[[5, 2], [5, 4, 2, 1], [5, 4, 3, 2]]"
      ]
     },
     "execution_count": 17,
     "metadata": {},
     "output_type": "execute_result"
    }
   ],
   "source": [
    "L = LFSR()\n",
    "\n",
    "# list of 5-bit feedback polynomials\n",
    "fpoly = L.get_fpolyList(m=5)\n",
    "fpoly"
   ]
  },
  {
   "cell_type": "code",
   "execution_count": 18,
   "metadata": {
    "ExecuteTime": {
     "end_time": "2021-04-23T17:51:37.862372Z",
     "start_time": "2021-04-23T17:51:37.850010Z"
    }
   },
   "outputs": [],
   "source": [
    "# list of all feedback polynomials as a dictionary\n",
    "fpolyDict = L.get_fpolyList()"
   ]
  },
  {
   "cell_type": "markdown",
   "metadata": {},
   "source": [
    "# Changing feedback polynomial in between"
   ]
  },
  {
   "cell_type": "code",
   "execution_count": 19,
   "metadata": {
    "ExecuteTime": {
     "end_time": "2021-04-23T17:51:38.358596Z",
     "start_time": "2021-04-23T17:51:38.327024Z"
    }
   },
   "outputs": [
    {
     "name": "stdout",
     "output_type": "stream",
     "text": [
      "23 bit LFSR with feedback polynomial  x^23 + x^19 + 1\n",
      "Expected Period (if polynomial is primitive) =  8388607\n",
      "Current :\n",
      " State        :  [1 0 0 0 0 0 0 0 0 0 0 0 0 0 0 0 0 0 0 0 1 1 1]\n",
      " Count        :  20\n",
      " Output bit   :  1\n",
      " feedback bit :  1\n",
      " Output Sequence 11111111111111111111\n",
      "\n",
      "Change to [23,14]\n",
      "\n",
      "23 bit LFSR with feedback polynomial  x^23 + x^14 + 1\n",
      "Expected Period (if polynomial is primitive) =  8388607\n",
      "Current :\n",
      " State        :  [0 0 0 1 1 1 1 0 0 0 0 0 0 0 0 0 0 1 1 1 1 0 0]\n",
      " Count        :  40\n",
      " Output bit   :  0\n",
      " feedback bit :  0\n",
      " Output Sequence 1111111111111111111111100000000000000000\n",
      "\n",
      "Change to [23,9]\n",
      "\n",
      "23 bit LFSR with feedback polynomial  x^23 + x^9 + 1\n",
      "Expected Period (if polynomial is primitive) =  8388607\n",
      "Current :\n",
      " State        :  [1 1 1 1 0 0 0 0 0 0 0 0 0 0 0 0 0 0 0 0 0 0 0]\n",
      " Count        :  60\n",
      " Output bit   :  1\n",
      " feedback bit :  1\n",
      " Output Sequence 111111111111111111111110000000000000000000111100000000001111\n"
     ]
    }
   ],
   "source": [
    "fpoly = [23,19]\n",
    "L = LFSR(fpoly=fpoly,initstate ='ones', verbose=False)\n",
    "\n",
    "seq0 = L.runKCycle(20)\n",
    "L.info()\n",
    "\n",
    "print('\\nChange to [23,14]\\n')\n",
    "L.changeFpoly(newfpoly =[23,14],reset=False)\n",
    "seq1 = L.runKCycle(20)\n",
    "L.info()\n",
    "\n",
    "print('\\nChange to [23,9]\\n')\n",
    "# Change after 20 clocks\n",
    "L.changeFpoly(newfpoly =[23,9],reset=False)\n",
    "seq2 = L.runKCycle(20)\n",
    "\n",
    "L.info()"
   ]
  },
  {
   "cell_type": "markdown",
   "metadata": {},
   "source": [
    "# A5/1 GSM Stream Cipher"
   ]
  },
  {
   "cell_type": "markdown",
   "metadata": {},
   "source": [
    "Reference Article: Enhancement of A5/1: https://doi.org/10.1109/ETNCC.2011.5958486"
   ]
  },
  {
   "cell_type": "code",
   "execution_count": 20,
   "metadata": {
    "ExecuteTime": {
     "end_time": "2021-04-23T17:51:39.909711Z",
     "start_time": "2021-04-23T17:51:39.889499Z"
    }
   },
   "outputs": [],
   "source": [
    "# Three LFSRs initialzed with 'ones' though they are intialized with encription key\n",
    "R1 = LFSR(fpoly = [19,18,17,14])\n",
    "R2 = LFSR(fpoly = [23,22,21,8])\n",
    "R3 = LFSR(fpoly = [22,21])\n",
    "\n",
    "# clocking bits\n",
    "b1 = R1.state[8]\n",
    "b2 = R1.state[10]\n",
    "b3 = R1.state[10]"
   ]
  },
  {
   "cell_type": "code",
   "execution_count": null,
   "metadata": {},
   "outputs": [],
   "source": []
  }
 ],
 "metadata": {
  "kernelspec": {
   "display_name": "Python 3",
   "language": "python",
   "name": "python3"
  },
  "language_info": {
   "codemirror_mode": {
    "name": "ipython",
    "version": 3
   },
   "file_extension": ".py",
   "mimetype": "text/x-python",
   "name": "python",
   "nbconvert_exporter": "python",
   "pygments_lexer": "ipython3",
   "version": "3.7.3"
  },
  "toc": {
   "base_numbering": 1,
   "nav_menu": {},
   "number_sections": true,
   "sideBar": true,
   "skip_h1_title": false,
   "title_cell": "Table of Contents",
   "title_sidebar": "Contents",
   "toc_cell": true,
   "toc_position": {},
   "toc_section_display": true,
   "toc_window_display": false
  }
 },
 "nbformat": 4,
 "nbformat_minor": 4
}
